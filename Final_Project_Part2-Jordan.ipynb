{
 "cells": [
  {
   "cell_type": "markdown",
   "metadata": {},
   "source": [
    "<b>Research Question:</b><br>\n",
    "Every year hundreds of thousands of people fill out brackets during March Madness. The odds of filling out a perfect bracket are 1 in 9.2 quitillion. This is a near impossible task, however I will look to explore how one can predict the winner of first round games. <br><br>This is important as upsets are very common in the first round. An upset is defined as a lower seeded team beating a higher seeded team. Out of 32 first round matchups, there have been an average of 8 upsets per year from 1985-2013 according to Sports Data, for a total of 224 upsets. Predicting the first round games is essential to filling out a bracket that accumulates the most points. \n",
    "\n",
    "<b>Hypothesis:</b>\n",
    "<br><br>\n",
    "The hypothesis of this study is that winning percentage and strength of schedule during the season will be the strongest indicators of whether a team will win their first round game. Other variables such as assits may also be a good predictors as it indicates many players on the team are skilled at scoring"
   ]
  },
  {
   "cell_type": "markdown",
   "metadata": {},
   "source": [
    "<b>Dataset</b>:\n",
    "<br><br>The data dictionary can be found here: https://www.kaggle.com/c/march-machine-learning-mania-2016/data"
   ]
  },
  {
   "cell_type": "markdown",
   "metadata": {},
   "source": [
    "<b>Domain Expertise</b>:<br><br>\n",
    "I am an avid basketball fan and am familar with all of the stats of a basketball game. I also know about the intracies of the game and what specific variables indicate. For example, if a team has a lot of assits it means they pass the ball well. \n",
    "<br><br>\n",
    "This specific problem has not been explored yet to my knowledge. Many people have tried to predict an entire tournament bracket, however that is a complex problem. The first round is where a lot of the surprises take place and brackets become 'busted', so I think this is a good place to start."
   ]
  },
  {
   "cell_type": "markdown",
   "metadata": {},
   "source": [
    "<b>Models:</b>\n",
    "<br><Br> I will start with a logisitc regression in order to predict whether a team will win their first round game in terms of a probability between 0 and 1. I will experiment with a variety of variables in order to discover the best combination of features to predict a victory. I will look to incorporate a Lasso regularization as well in order to see if this method will help me pick the best features for minimizing errors.\n",
    "<br><br>\n",
    "I will also look at knn in order to predict to find the probability of winning a first round game. This will have a simlair process as logisitic regression except there is not a form of regularization that I can apply. The outcome will be a number 0 to 1 that will give me the probability of a team winning a first round game. \n",
    "<br><br>\n",
    "I will also look at decision trees. This method will find the features that are most important in predcting if a team will win. This will then find the threashold for each variable and move on to the next most important feature. This is an easy to read an understandable method because it is essentially providing directions based on specific values of the variables identified by the model. "
   ]
  },
  {
   "cell_type": "markdown",
   "metadata": {},
   "source": [
    "<b>Challenges:</b><br>\n",
    "One challenge will be that the data dates back to 2003 so there is a limitation to the data. The NCAA tournaments has existed with 64 teams since 1985 so I am missing about 18 years worth of data.<br><br>\n",
    "Another caveat is that I don't have individual player data. This means I won't be able to find the players that contribute to the variables that are significant in predicting a winner.<br><br>\n",
    "An additional challenge is that I do have more advances metrics such as true Shooting percentage, defensive rating, offensive rating, rebound rate, assist rate, among others. Some of these more advanced metrics may be important precitors."
   ]
  },
  {
   "cell_type": "markdown",
   "metadata": {},
   "source": [
    "<b>Outcome and Evaluation Criteria:</b>\n",
    "\n",
    "The final evaluation criteria will be measuring the accuracy of the number of first round matchups that are predicted accurately are the test set of data. The final deliverable will be a power point outlining the models used and their accuracy. It will also outline what variables are the best predictor if a team will win their first round NCAA tournament game.\n"
   ]
  },
  {
   "cell_type": "code",
   "execution_count": null,
   "metadata": {
    "collapsed": true
   },
   "outputs": [],
   "source": []
  }
 ],
 "metadata": {
  "kernelspec": {
   "display_name": "Python 3",
   "language": "python",
   "name": "python3"
  },
  "language_info": {
   "codemirror_mode": {
    "name": "ipython",
    "version": 3
   },
   "file_extension": ".py",
   "mimetype": "text/x-python",
   "name": "python",
   "nbconvert_exporter": "python",
   "pygments_lexer": "ipython3",
   "version": "3.6.0"
  }
 },
 "nbformat": 4,
 "nbformat_minor": 2
}
